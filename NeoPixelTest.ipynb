{
 "cells": [
  {
   "cell_type": "markdown",
   "id": "be7bd835",
   "metadata": {},
   "source": [
    "### NeoPixel Test\n",
    "\n",
    "More information at https://learn.adafruit.com/adafruit-seesaw-atsamd09-breakout/overview. Make sure to install the drivers first using\n",
    "\n",
    "```\n",
    "pip3 install adafruit-circuitpython-seesaw\n",
    "```"
   ]
  },
  {
   "cell_type": "code",
   "execution_count": 1,
   "id": "4db2dc42",
   "metadata": {},
   "outputs": [
    {
     "ename": "ModuleNotFoundError",
     "evalue": "No module named 'adafruit_seesaw'",
     "output_type": "error",
     "traceback": [
      "\u001b[0;31m---------------------------------------------------------------------------\u001b[0m",
      "\u001b[0;31mModuleNotFoundError\u001b[0m                       Traceback (most recent call last)",
      "\u001b[0;32m<ipython-input-1-0e58adfffe63>\u001b[0m in \u001b[0;36m<module>\u001b[0;34m\u001b[0m\n\u001b[1;32m      3\u001b[0m \u001b[0;32mimport\u001b[0m \u001b[0mbusio\u001b[0m\u001b[0;34m\u001b[0m\u001b[0;34m\u001b[0m\u001b[0m\n\u001b[1;32m      4\u001b[0m \u001b[0;32mfrom\u001b[0m \u001b[0mrainbowio\u001b[0m \u001b[0;32mimport\u001b[0m \u001b[0mcolorwheel\u001b[0m\u001b[0;34m\u001b[0m\u001b[0;34m\u001b[0m\u001b[0m\n\u001b[0;32m----> 5\u001b[0;31m \u001b[0;32mfrom\u001b[0m \u001b[0madafruit_seesaw\u001b[0m \u001b[0;32mimport\u001b[0m \u001b[0mseesaw\u001b[0m\u001b[0;34m,\u001b[0m \u001b[0mneopixel\u001b[0m\u001b[0;34m\u001b[0m\u001b[0;34m\u001b[0m\u001b[0m\n\u001b[0m\u001b[1;32m      6\u001b[0m \u001b[0;34m\u001b[0m\u001b[0m\n\u001b[1;32m      7\u001b[0m \u001b[0mi2c_bus\u001b[0m \u001b[0;34m=\u001b[0m \u001b[0mbusio\u001b[0m\u001b[0;34m.\u001b[0m\u001b[0mI2C\u001b[0m\u001b[0;34m(\u001b[0m\u001b[0mboard\u001b[0m\u001b[0;34m.\u001b[0m\u001b[0mSCL\u001b[0m\u001b[0;34m,\u001b[0m \u001b[0mboard\u001b[0m\u001b[0;34m.\u001b[0m\u001b[0mSDA\u001b[0m\u001b[0;34m)\u001b[0m\u001b[0;34m\u001b[0m\u001b[0;34m\u001b[0m\u001b[0m\n",
      "\u001b[0;31mModuleNotFoundError\u001b[0m: No module named 'adafruit_seesaw'"
     ]
    }
   ],
   "source": [
    "import time\n",
    "import board\n",
    "import busio\n",
    "from rainbowio import colorwheel\n",
    "from adafruit_seesaw import seesaw, neopixel\n",
    "\n",
    "i2c_bus = busio.I2C(board.SCL, board.SDA)\n",
    "ss = seesaw.Seesaw(i2c_bus)"
   ]
  },
  {
   "cell_type": "code",
   "execution_count": 2,
   "id": "5c7ce740",
   "metadata": {},
   "outputs": [],
   "source": [
    "NEOPIXEL_PIN = 9  # change to Pin NeoPixel is connected to (9, 10, 11, 14, 15, 24, or 25 )\n",
    "NEOPIXEL_NUM = 1  # no more than 60!\n",
    "\n",
    "pixels = neopixel.NeoPixel(ss, NEOPIXEL_PIN, NEOPIXEL_NUM)"
   ]
  },
  {
   "cell_type": "code",
   "execution_count": 3,
   "id": "c0390ee5",
   "metadata": {},
   "outputs": [],
   "source": [
    "pixels.brightness = 0.6\n",
    "pixels.fill((0,200,255)) # Note this is Red, Green, Blue from 0 to 255"
   ]
  },
  {
   "cell_type": "code",
   "execution_count": 4,
   "id": "6ee97b79",
   "metadata": {},
   "outputs": [],
   "source": [
    "pixels.fill((0,0,0)) # Off"
   ]
  },
  {
   "cell_type": "code",
   "execution_count": null,
   "id": "96a8be32",
   "metadata": {},
   "outputs": [],
   "source": []
  }
 ],
 "metadata": {
  "kernelspec": {
   "display_name": "Python 3",
   "language": "python",
   "name": "python3"
  },
  "language_info": {
   "codemirror_mode": {
    "name": "ipython",
    "version": 3
   },
   "file_extension": ".py",
   "mimetype": "text/x-python",
   "name": "python",
   "nbconvert_exporter": "python",
   "pygments_lexer": "ipython3",
   "version": "3.7.3"
  }
 },
 "nbformat": 4,
 "nbformat_minor": 5
}
